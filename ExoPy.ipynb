{
 "cells": [
  {
   "cell_type": "code",
   "execution_count": 1,
   "id": "993a5ac2",
   "metadata": {},
   "outputs": [],
   "source": [
    "import json\n",
    "import pandas as pd\n",
    "from pandas import json_normalize"
   ]
  },
  {
   "cell_type": "code",
   "execution_count": 2,
   "id": "9096f14e",
   "metadata": {},
   "outputs": [],
   "source": [
    "with open('questions.json', 'r') as f:\n",
    "    raw = json.load(f)\n"
   ]
  },
  {
   "cell_type": "code",
   "execution_count": 3,
   "id": "8e13790b",
   "metadata": {},
   "outputs": [
    {
     "data": {
      "text/html": [
       "<div>\n",
       "<style scoped>\n",
       "    .dataframe tbody tr th:only-of-type {\n",
       "        vertical-align: middle;\n",
       "    }\n",
       "\n",
       "    .dataframe tbody tr th {\n",
       "        vertical-align: top;\n",
       "    }\n",
       "\n",
       "    .dataframe thead th {\n",
       "        text-align: right;\n",
       "    }\n",
       "</style>\n",
       "<table border=\"1\" class=\"dataframe\">\n",
       "  <thead>\n",
       "    <tr style=\"text-align: right;\">\n",
       "      <th></th>\n",
       "      <th>num</th>\n",
       "      <th>question</th>\n",
       "      <th>tips</th>\n",
       "      <th>answer</th>\n",
       "    </tr>\n",
       "  </thead>\n",
       "  <tbody>\n",
       "    <tr>\n",
       "      <th>0</th>\n",
       "      <td>1.1</td>\n",
       "      <td>[How to print hello world ?]</td>\n",
       "      <td>[Use the print function]</td>\n",
       "      <td>[print(\"Hello World!\")]</td>\n",
       "    </tr>\n",
       "    <tr>\n",
       "      <th>1</th>\n",
       "      <td>1.2</td>\n",
       "      <td>[How to print hello world 3 times\\nUse a for l...</td>\n",
       "      <td>[Use the range function]</td>\n",
       "      <td>[for i in range(0,3):\\n\\tprint(\"Hello World!\")]</td>\n",
       "    </tr>\n",
       "    <tr>\n",
       "      <th>2</th>\n",
       "      <td>2.1</td>\n",
       "      <td>[Create a function to get the max of two numbers]</td>\n",
       "      <td>[It's difficult to find an easier function tha...</td>\n",
       "      <td>[def maximum(a, b):\\n\\tif a &gt;= b:\\n\\t\\treturn ...</td>\n",
       "    </tr>\n",
       "  </tbody>\n",
       "</table>\n",
       "</div>"
      ],
      "text/plain": [
       "   num                                           question  \\\n",
       "0  1.1                       [How to print hello world ?]   \n",
       "1  1.2  [How to print hello world 3 times\\nUse a for l...   \n",
       "2  2.1  [Create a function to get the max of two numbers]   \n",
       "\n",
       "                                                tips  \\\n",
       "0                           [Use the print function]   \n",
       "1                           [Use the range function]   \n",
       "2  [It's difficult to find an easier function tha...   \n",
       "\n",
       "                                              answer  \n",
       "0                            [print(\"Hello World!\")]  \n",
       "1    [for i in range(0,3):\\n\\tprint(\"Hello World!\")]  \n",
       "2  [def maximum(a, b):\\n\\tif a >= b:\\n\\t\\treturn ...  "
      ]
     },
     "execution_count": 3,
     "metadata": {},
     "output_type": "execute_result"
    }
   ],
   "source": [
    "questions = pd.DataFrame(raw['questions'])\n",
    "questions"
   ]
  },
  {
   "cell_type": "code",
   "execution_count": 4,
   "id": "e24f3f34",
   "metadata": {},
   "outputs": [
    {
     "name": "stdout",
     "output_type": "stream",
     "text": [
      "print(\"Hello World!\")\n",
      "-------------\n",
      "for i in range(0,3):\n",
      "\tprint(\"Hello World!\")\n",
      "-------------\n",
      "def maximum(a, b):\n",
      "\tif a >= b:\n",
      "\t\treturn a\n",
      "\treturn b\n",
      "-------------\n"
     ]
    }
   ],
   "source": [
    "for answer in questions['answer']:\n",
    "    print(answer[0])\n",
    "    print(\"-------------\")"
   ]
  },
  {
   "cell_type": "code",
   "execution_count": 5,
   "id": "a50e97fb",
   "metadata": {},
   "outputs": [
    {
     "name": "stdout",
     "output_type": "stream",
     "text": [
      "Question n° 1\n",
      "How to print hello world ?\n",
      "Use the print function\n",
      "print(\"Hello World!\")\n",
      "_________________\n",
      "Question n° 1\n",
      "How to print hello world 3 times\n",
      "Use a for loop.\n",
      "Use the range function\n",
      "for i in range(0,3):\n",
      "\tprint(\"Hello World!\")\n",
      "_________________\n",
      "Question n° 2\n",
      "Create a function to get the max of two numbers\n",
      "It's difficult to find an easier function than this one...\n",
      "def maximum(a, b):\n",
      "\tif a >= b:\n",
      "\t\treturn a\n",
      "\treturn b\n",
      "_________________\n"
     ]
    }
   ],
   "source": [
    "for i in range(len(questions)):\n",
    "    print(f\"Question n° {questions['num'][i][0]}\")\n",
    "    print(questions['question'][i][0])\n",
    "    print(questions['tips'][i][0])\n",
    "    print(questions['answer'][i][0])\n",
    "    print(\"_________________\")"
   ]
  },
  {
   "cell_type": "code",
   "execution_count": 6,
   "id": "1be70591",
   "metadata": {},
   "outputs": [],
   "source": [
    "def preprocessing(s):\n",
    "    s = s.replace('\\n', '<br>').replace('\\t', '&emsp;')\n",
    "    return s"
   ]
  },
  {
   "cell_type": "code",
   "execution_count": 7,
   "id": "f82fbcf4",
   "metadata": {},
   "outputs": [
    {
     "name": "stdout",
     "output_type": "stream",
     "text": [
      "How to print hello world ?\n",
      "How to print hello world 3 times<br>Use a for loop.\n",
      "Create a function to get the max of two numbers\n"
     ]
    }
   ],
   "source": [
    "for question in questions['question']:\n",
    "    print(preprocessing(question[0]))"
   ]
  },
  {
   "cell_type": "code",
   "execution_count": 8,
   "id": "7dfa0d0e",
   "metadata": {},
   "outputs": [
    {
     "data": {
      "text/html": [
       "<div>\n",
       "<style scoped>\n",
       "    .dataframe tbody tr th:only-of-type {\n",
       "        vertical-align: middle;\n",
       "    }\n",
       "\n",
       "    .dataframe tbody tr th {\n",
       "        vertical-align: top;\n",
       "    }\n",
       "\n",
       "    .dataframe thead th {\n",
       "        text-align: right;\n",
       "    }\n",
       "</style>\n",
       "<table border=\"1\" class=\"dataframe\">\n",
       "  <thead>\n",
       "    <tr style=\"text-align: right;\">\n",
       "      <th></th>\n",
       "      <th>env</th>\n",
       "      <th>page_title</th>\n",
       "      <th>doc_title</th>\n",
       "      <th>credits</th>\n",
       "      <th>doc_description</th>\n",
       "    </tr>\n",
       "  </thead>\n",
       "  <tbody>\n",
       "    <tr>\n",
       "      <th>0</th>\n",
       "      <td>matplotlib,numpy</td>\n",
       "      <td>Bases de Python</td>\n",
       "      <td>Exercices de base</td>\n",
       "      <td>Elias Aliche &lt;br&gt;&lt;a href=\"https://www.google.f...</td>\n",
       "      <td>Petits exercices faciles pour commencer</td>\n",
       "    </tr>\n",
       "  </tbody>\n",
       "</table>\n",
       "</div>"
      ],
      "text/plain": [
       "                env       page_title          doc_title  \\\n",
       "0  matplotlib,numpy  Bases de Python  Exercices de base   \n",
       "\n",
       "                                             credits  \\\n",
       "0  Elias Aliche <br><a href=\"https://www.google.f...   \n",
       "\n",
       "                           doc_description  \n",
       "0  Petits exercices faciles pour commencer  "
      ]
     },
     "execution_count": 8,
     "metadata": {},
     "output_type": "execute_result"
    }
   ],
   "source": [
    "with open('details.json', 'r') as g:\n",
    "    det_raw = json.load(g)\n",
    "details = pd.DataFrame(det_raw)\n",
    "details"
   ]
  },
  {
   "cell_type": "code",
   "execution_count": 9,
   "id": "b85efc98",
   "metadata": {},
   "outputs": [
    {
     "data": {
      "text/plain": [
       "'Bases de Python'"
      ]
     },
     "execution_count": 9,
     "metadata": {},
     "output_type": "execute_result"
    }
   ],
   "source": [
    "details['page_title'][0]"
   ]
  },
  {
   "cell_type": "code",
   "execution_count": 10,
   "id": "eb86cb9f",
   "metadata": {},
   "outputs": [
    {
     "name": "stdout",
     "output_type": "stream",
     "text": [
      "['matplotlib', 'numpy']\n"
     ]
    }
   ],
   "source": [
    "def sep_env(s):\n",
    "    s = s.replace(' ', '')\n",
    "    env = s.split(\",\")\n",
    "    return env\n",
    "print(sep_env(details['env'][0]))"
   ]
  },
  {
   "cell_type": "code",
   "execution_count": 11,
   "id": "7a7ece74",
   "metadata": {},
   "outputs": [],
   "source": [
    "def set_env(env):\n",
    "    res = \"\"\n",
    "    for e in env:\n",
    "        res = res + f\"- {e}\\n\"\n",
    "    return res"
   ]
  },
  {
   "cell_type": "code",
   "execution_count": 12,
   "id": "a90c1027",
   "metadata": {},
   "outputs": [],
   "source": [
    "def init_content():\n",
    "    x = \"\"\n",
    "    for i in range(len(questions)):\n",
    "        tips_n = i\n",
    "        answer_n = i\n",
    "        num1 = preprocessing(questions['num'][i])\n",
    "        question1 = preprocessing(questions['question'][i][0])\n",
    "        tips1 = preprocessing(questions['tips'][i][0])\n",
    "        answer1 = preprocessing(questions['answer'][i][0])\n",
    "        x = x + f\"<p class=\\\"repl_question_p\\\"><b>Question n° {num1}</b>:<br> {question1}</p>\\n<div>\\n<py-repl auto-generate=\\\"false\\\"></py-repl>\\n</div>\\n<button class=\\\"btn btn-info\\\" onclick=\\\"show_hidden_p('tips{tips_n}')\\\"> Show tips </button>\\n<p class=\\\"repl_tips_p\\\" id=\\\"tips{tips_n}\\\" hidden>{tips1}</p>\\n<button class=\\\"btn btn-info\\\" onclick=\\\"show_hidden_p('answer{answer_n}')\\\"> Show answer</button><br>\\n<p class=\\\"repl_answer_p\\\" id=\\\"answer{answer_n}\\\" hidden>{answer1}</p>\\n<br>\"\n",
    "    return x"
   ]
  },
  {
   "cell_type": "code",
   "execution_count": 13,
   "id": "aece754e",
   "metadata": {},
   "outputs": [
    {
     "name": "stdout",
     "output_type": "stream",
     "text": [
      "<!DOCTYPE html>\n",
      "<html lang=\"fr\">\n",
      "<head>\n",
      "<title>Bases de Python</title>\n",
      "<meta charset=\"UTF-8\" />\n",
      "<link rel=\"stylesheet\" href=\"https://maxcdn.bootstrapcdn.com/bootstrap/3.4.1/css/bootstrap.min.css\"/>\n",
      "<style>\n",
      "#hidden{visibility: hidden;}\n",
      ".repl_tips_p{background-color: rgba(173, 216, 230, 0.3);}\n",
      ".repl_answer_p{background-color: rgba(171, 246, 58, 0.3);}\n",
      "</style>\n",
      "<link rel=\"stylesheet\" href=\"https://pyscript.net/alpha/pyscript.css\" />\n",
      "<script defer src=\"https://pyscript.net/alpha/pyscript.js\"></script>\n",
      "<script>\n",
      "\tfunction show_hidden_p(id){\n",
      "\t\tlet p = document.getElementById(id);\n",
      "\t\tp.removeAttribute(\"hidden\");\n",
      "}\n",
      "</script>\n",
      "</head>\n",
      "<body style=\"font-size: 20px; background: black;\">\n",
      "<!-- ENV here-->\n",
      "<py-env>\n",
      "- matplotlib\n",
      "- numpy\n",
      "\n",
      "</py-env>\n",
      "<div class=\"jumbotron\" id=\"repl_question_div\">\n",
      "<div class=\"container\">\n",
      "<h1 id=\"doc_title\">Exercices de base</h1><br>\n",
      "<h3 id=\"credits\" style=\"color:blue\">Elias Aliche <br><a href=\"https://www.google.fr\">https://www.google.fr</a></h3><br>\n",
      "<h2 id=\"doc_description\">Petits exercices faciles pour commencer</h2><br>\n",
      "<!-- REPL here-->\n",
      "<p class=\"repl_question_p\"><b>Question n° 1.1</b>:<br> How to print hello world ?</p>\n",
      "<div>\n",
      "<py-repl auto-generate=\"false\"></py-repl>\n",
      "</div>\n",
      "<button class=\"btn btn-info\" onclick=\"show_hidden_p('tips0')\"> Show tips </button>\n",
      "<p class=\"repl_tips_p\" id=\"tips0\" hidden>Use the print function</p>\n",
      "<button class=\"btn btn-info\" onclick=\"show_hidden_p('answer0')\"> Show answer</button><br>\n",
      "<p class=\"repl_answer_p\" id=\"answer0\" hidden>print(\"Hello World!\")</p>\n",
      "<br><p class=\"repl_question_p\"><b>Question n° 1.2</b>:<br> How to print hello world 3 times<br>Use a for loop.</p>\n",
      "<div>\n",
      "<py-repl auto-generate=\"false\"></py-repl>\n",
      "</div>\n",
      "<button class=\"btn btn-info\" onclick=\"show_hidden_p('tips1')\"> Show tips </button>\n",
      "<p class=\"repl_tips_p\" id=\"tips1\" hidden>Use the range function</p>\n",
      "<button class=\"btn btn-info\" onclick=\"show_hidden_p('answer1')\"> Show answer</button><br>\n",
      "<p class=\"repl_answer_p\" id=\"answer1\" hidden>for i in range(0,3):<br>&emsp;print(\"Hello World!\")</p>\n",
      "<br><p class=\"repl_question_p\"><b>Question n° 2.1</b>:<br> Create a function to get the max of two numbers</p>\n",
      "<div>\n",
      "<py-repl auto-generate=\"false\"></py-repl>\n",
      "</div>\n",
      "<button class=\"btn btn-info\" onclick=\"show_hidden_p('tips2')\"> Show tips </button>\n",
      "<p class=\"repl_tips_p\" id=\"tips2\" hidden>It's difficult to find an easier function than this one...</p>\n",
      "<button class=\"btn btn-info\" onclick=\"show_hidden_p('answer2')\"> Show answer</button><br>\n",
      "<p class=\"repl_answer_p\" id=\"answer2\" hidden>def maximum(a, b):<br>&emsp;if a >= b:<br>&emsp;&emsp;return a<br>&emsp;return b</p>\n",
      "<br></div>\n",
      "</div>\n",
      "</body>\n",
      "</html>\n",
      "\n"
     ]
    }
   ],
   "source": [
    "nl = '\\n'\n",
    "nt = '\\t'\n",
    "acc1 ='{'\n",
    "acc2 = '}'\n",
    "env = set_env(sep_env(details['env'][0]))\n",
    "page_title = details['page_title'][0]\n",
    "doc_title = details['doc_title'][0]\n",
    "credits = details['credits'][0]\n",
    "doc_description = details['doc_description'][0]\n",
    "content = init_content()\n",
    "html = f\"<!DOCTYPE html>{nl}<html lang=\\\"fr\\\">{nl}<head>{nl}<title>{page_title}</title>{nl}<meta charset=\\\"UTF-8\\\" />{nl}<link rel=\\\"stylesheet\\\" href=\\\"https://maxcdn.bootstrapcdn.com/bootstrap/3.4.1/css/bootstrap.min.css\\\"/>{nl}<style>{nl}#hidden{acc1}visibility: hidden;{acc2}{nl}.repl_tips_p{acc1}background-color: rgba(173, 216, 230, 0.3);{acc2}{nl}.repl_answer_p{acc1}background-color: rgba(171, 246, 58, 0.3);{acc2}{nl}</style>{nl}<link rel=\\\"stylesheet\\\" href=\\\"https://pyscript.net/alpha/pyscript.css\\\" />{nl}<script defer src=\\\"https://pyscript.net/alpha/pyscript.js\\\"></script>{nl}<script>{nl}{nt}function show_hidden_p(id){acc1}{nl}{nt}{nt}let p = document.getElementById(id);{nl}{nt}{nt}p.removeAttribute(\\\"hidden\\\");{nl}{acc2}{nl}</script>{nl}</head>{nl}<body style=\\\"font-size: 20px; background: black;\\\">{nl}<!-- ENV here-->{nl}<py-env>{nl}{env}{nl}</py-env>{nl}<div class=\\\"jumbotron\\\" id=\\\"repl_question_div\\\">{nl}<div class=\\\"container\\\">{nl}<h1 id=\\\"doc_title\\\">{doc_title}</h1><br>{nl}<h3 id=\\\"credits\\\" style=\\\"color:blue\\\">{credits}</h3><br>{nl}<h2 id=\\\"doc_description\\\">{doc_description}</h2><br>{nl}<!-- REPL here-->{nl}{content}</div>{nl}</div>{nl}</body>{nl}</html>{nl}\"\n",
    "print(html)\n"
   ]
  },
  {
   "cell_type": "code",
   "execution_count": null,
   "id": "78b49db4",
   "metadata": {},
   "outputs": [],
   "source": []
  },
  {
   "cell_type": "code",
   "execution_count": null,
   "id": "d222b233",
   "metadata": {},
   "outputs": [],
   "source": []
  }
 ],
 "metadata": {
  "kernelspec": {
   "display_name": "Python 3 (ipykernel)",
   "language": "python",
   "name": "python3"
  },
  "language_info": {
   "codemirror_mode": {
    "name": "ipython",
    "version": 3
   },
   "file_extension": ".py",
   "mimetype": "text/x-python",
   "name": "python",
   "nbconvert_exporter": "python",
   "pygments_lexer": "ipython3",
   "version": "3.9.7"
  }
 },
 "nbformat": 4,
 "nbformat_minor": 5
}
